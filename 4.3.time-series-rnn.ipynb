{
  "nbformat": 4,
  "nbformat_minor": 0,
  "metadata": {
    "accelerator": "GPU",
    "colab": {
      "name": "S+P Week 3 Exercise Question.ipynb",
      "provenance": [],
      "collapsed_sections": []
    },
    "kernelspec": {
      "display_name": "Python 3",
      "name": "python3"
    }
  },
  "cells": [
    {
      "cell_type": "code",
      "metadata": {
        "id": "zX4Kg8DUTKWO",
        "colab_type": "code",
        "colab": {}
      },
      "source": [
        "#@title Licensed under the Apache License, Version 2.0 (the \"License\");\n",
        "# you may not use this file except in compliance with the License.\n",
        "# You may obtain a copy of the License at\n",
        "#\n",
        "# https://www.apache.org/licenses/LICENSE-2.0\n",
        "#\n",
        "# Unless required by applicable law or agreed to in writing, software\n",
        "# distributed under the License is distributed on an \"AS IS\" BASIS,\n",
        "# WITHOUT WARRANTIES OR CONDITIONS OF ANY KIND, either express or implied.\n",
        "# See the License for the specific language governing permissions and\n",
        "# limitations under the License."
      ],
      "execution_count": 0,
      "outputs": []
    },
    {
      "cell_type": "code",
      "metadata": {
        "colab_type": "code",
        "id": "D1J15Vh_1Jih",
        "colab": {
          "base_uri": "https://localhost:8080/",
          "height": 72
        },
        "outputId": "d9c551de-a25e-49b9-8f7c-294efd6f9006"
      },
      "source": [
        "!pip install tf-nightly-2.0-preview\n"
      ],
      "execution_count": 2,
      "outputs": [
        {
          "output_type": "stream",
          "text": [
            "\u001b[31mERROR: Could not find a version that satisfies the requirement tf-nightly-2.0-preview (from versions: none)\u001b[0m\n",
            "\u001b[31mERROR: No matching distribution found for tf-nightly-2.0-preview\u001b[0m\n"
          ],
          "name": "stdout"
        }
      ]
    },
    {
      "cell_type": "code",
      "metadata": {
        "colab_type": "code",
        "id": "BOjujz601HcS",
        "colab": {
          "base_uri": "https://localhost:8080/",
          "height": 34
        },
        "outputId": "80eecd71-2aed-47c4-ab5b-453197dab129"
      },
      "source": [
        "import tensorflow as tf\n",
        "import numpy as np\n",
        "import matplotlib.pyplot as plt\n",
        "print(tf.__version__)"
      ],
      "execution_count": 3,
      "outputs": [
        {
          "output_type": "stream",
          "text": [
            "2.2.0-rc3\n"
          ],
          "name": "stdout"
        }
      ]
    },
    {
      "cell_type": "code",
      "metadata": {
        "colab_type": "code",
        "id": "Zswl7jRtGzkk",
        "colab": {
          "base_uri": "https://localhost:8080/",
          "height": 279
        },
        "outputId": "6218b2a5-2f6c-4613-8689-60272ec96f65"
      },
      "source": [
        "def plot_series(time, series, format=\"-\", start=0, end=None):\n",
        "    plt.plot(time[start:end], series[start:end], format)\n",
        "    plt.xlabel(\"Time\")\n",
        "    plt.ylabel(\"Value\")\n",
        "    plt.grid(False)\n",
        "\n",
        "def trend(time, slope=0):\n",
        "    return slope * time\n",
        "\n",
        "def seasonal_pattern(season_time):\n",
        "    \"\"\"Just an arbitrary pattern, you can change it if you wish\"\"\"\n",
        "    return np.where(season_time < 0.1,\n",
        "                    np.cos(season_time * 6 * np.pi),\n",
        "                    2 / np.exp(9 * season_time))\n",
        "\n",
        "def seasonality(time, period, amplitude=1, phase=0):\n",
        "    \"\"\"Repeats the same pattern at each period\"\"\"\n",
        "    season_time = ((time + phase) % period) / period\n",
        "    return amplitude * seasonal_pattern(season_time)\n",
        "\n",
        "def noise(time, noise_level=1, seed=None):\n",
        "    rnd = np.random.RandomState(seed)\n",
        "    return rnd.randn(len(time)) * noise_level\n",
        "\n",
        "time = np.arange(10 * 365 + 1, dtype=\"float32\")\n",
        "baseline = 10\n",
        "series = trend(time, 0.1)  \n",
        "baseline = 10\n",
        "amplitude = 40\n",
        "slope = 0.005\n",
        "noise_level = 3\n",
        "\n",
        "# Create the series\n",
        "series = baseline + trend(time, slope) + seasonality(time, period=365, amplitude=amplitude)\n",
        "# Update with noise\n",
        "series += noise(time, noise_level, seed=51)\n",
        "\n",
        "split_time = 3000\n",
        "time_train = time[:split_time]\n",
        "x_train = series[:split_time]\n",
        "time_valid = time[split_time:]\n",
        "x_valid = series[split_time:]\n",
        "\n",
        "window_size = 20\n",
        "batch_size = 32\n",
        "shuffle_buffer_size = 1000\n",
        "\n",
        "plot_series(time, series)"
      ],
      "execution_count": 4,
      "outputs": [
        {
          "output_type": "display_data",
          "data": {
            "image/png": "[encoded data removed]",
            "text/plain": [
              "<Figure size 432x288 with 1 Axes>"
            ]
          },
          "metadata": {
            "tags": [],
            "needs_background": "light"
          }
        }
      ]
    },
    {
      "cell_type": "code",
      "metadata": {
        "colab_type": "code",
        "id": "4sTTIOCbyShY",
        "colab": {}
      },
      "source": [
        "def windowed_dataset(series, window_size, batch_size, shuffle_buffer):\n",
        "  dataset = tf.data.Dataset.from_tensor_slices(series)\n",
        "  dataset = dataset.window(window_size + 1, shift=1, drop_remainder=True)\n",
        "  dataset = dataset.flat_map(lambda window: window.batch(window_size + 1))\n",
        "  dataset = dataset.shuffle(shuffle_buffer).map(lambda window: (window[:-1], window[-1]))\n",
        "  dataset = dataset.batch(batch_size).prefetch(1)\n",
        "  return dataset"
      ],
      "execution_count": 0,
      "outputs": []
    },
    {
      "cell_type": "code",
      "metadata": {
        "colab_type": "code",
        "id": "A1Hl39rklkLm",
        "colab": {
          "base_uri": "https://localhost:8080/",
          "height": 1000
        },
        "outputId": "cc70c46f-64c8-4d97-e0b6-a55d9a6faa4f"
      },
      "source": [
        "tf.keras.backend.clear_session()\n",
        "tf.random.set_seed(51)\n",
        "np.random.seed(51)\n",
        "\n",
        "tf.keras.backend.clear_session()\n",
        "dataset = windowed_dataset(x_train, window_size, batch_size, shuffle_buffer_size)\n",
        "\n",
        "l = tf.keras.layers\n",
        "\n",
        "model = tf.keras.models.Sequential([\n",
        "  tf.keras.layers.Lambda(lambda x: tf.expand_dims(x, axis=-1), input_shape=[None]),\n",
        "  # YOUR CODE HERE\n",
        "  l.Bidirectional(l.LSTM(32, return_sequences=True)),\n",
        "  l.Bidirectional(l.LSTM(32)),\n",
        "  l.Dense(1),\n",
        "  tf.keras.layers.Lambda(lambda x: x*100.0)\n",
        "])\n",
        "\n",
        "lr_schedule = tf.keras.callbacks.LearningRateScheduler(\n",
        "    lambda epoch: 1e-8 * 10**(epoch / 20))\n",
        "optimizer = tf.keras.optimizers.SGD(lr=1e-8, momentum=0.9)\n",
        "model.compile(loss=tf.keras.losses.Huber(),\n",
        "              optimizer=optimizer,\n",
        "              metrics=[\"mae\"])\n",
        "history = model.fit(dataset, epochs=100, callbacks=[lr_schedule])"
      ],
      "execution_count": 8,
      "outputs": [
        {
          "output_type": "stream",
          "text": [
            "Epoch 1/100\n",
            "94/94 [==============================] - 1s 9ms/step - loss: 8.5386 - mae: 9.0204 - lr: 1.0000e-08\n",
            "Epoch 2/100\n",
            "94/94 [==============================] - 1s 9ms/step - loss: 8.0450 - mae: 8.5392 - lr: 1.1220e-08\n",
            "Epoch 3/100\n",
            "94/94 [==============================] - 1s 9ms/step - loss: 7.7481 - mae: 8.2080 - lr: 1.2589e-08\n",
            "Epoch 4/100\n",
            "94/94 [==============================] - 1s 9ms/step - loss: 7.4666 - mae: 7.9862 - lr: 1.4125e-08\n",
            "Epoch 5/100\n",
            "94/94 [==============================] - 1s 9ms/step - loss: 7.3077 - mae: 7.8287 - lr: 1.5849e-08\n",
            "Epoch 6/100\n",
            "94/94 [==============================] - 1s 9ms/step - loss: 7.2097 - mae: 7.7112 - lr: 1.7783e-08\n",
            "Epoch 7/100\n",
            "94/94 [==============================] - 1s 9ms/step - loss: 7.0807 - mae: 7.6127 - lr: 1.9953e-08\n",
            "Epoch 8/100\n",
            "94/94 [==============================] - 1s 9ms/step - loss: 7.0237 - mae: 7.5257 - lr: 2.2387e-08\n",
            "Epoch 9/100\n",
            "94/94 [==============================] - 1s 9ms/step - loss: 6.9168 - mae: 7.4375 - lr: 2.5119e-08\n",
            "Epoch 10/100\n",
            "94/94 [==============================] - 1s 9ms/step - loss: 6.8369 - mae: 7.3503 - lr: 2.8184e-08\n",
            "Epoch 11/100\n",
            "94/94 [==============================] - 1s 9ms/step - loss: 6.8965 - mae: 7.2618 - lr: 3.1623e-08\n",
            "Epoch 12/100\n",
            "94/94 [==============================] - 1s 9ms/step - loss: 6.6687 - mae: 7.1622 - lr: 3.5481e-08\n",
            "Epoch 13/100\n",
            "94/94 [==============================] - 1s 9ms/step - loss: 6.6226 - mae: 7.0658 - lr: 3.9811e-08\n",
            "Epoch 14/100\n",
            "94/94 [==============================] - 1s 9ms/step - loss: 6.4961 - mae: 6.9620 - lr: 4.4668e-08\n",
            "Epoch 15/100\n",
            "94/94 [==============================] - 1s 9ms/step - loss: 6.4191 - mae: 6.8554 - lr: 5.0119e-08\n",
            "Epoch 16/100\n",
            "94/94 [==============================] - 1s 9ms/step - loss: 6.2233 - mae: 6.7452 - lr: 5.6234e-08\n",
            "Epoch 17/100\n",
            "94/94 [==============================] - 1s 9ms/step - loss: 6.1378 - mae: 6.6354 - lr: 6.3096e-08\n",
            "Epoch 18/100\n",
            "94/94 [==============================] - 1s 9ms/step - loss: 6.0272 - mae: 6.5368 - lr: 7.0795e-08\n",
            "Epoch 19/100\n",
            "94/94 [==============================] - 1s 9ms/step - loss: 5.9604 - mae: 6.4362 - lr: 7.9433e-08\n",
            "Epoch 20/100\n",
            "94/94 [==============================] - 1s 9ms/step - loss: 5.8329 - mae: 6.3364 - lr: 8.9125e-08\n",
            "Epoch 21/100\n",
            "94/94 [==============================] - 1s 9ms/step - loss: 5.8139 - mae: 6.2500 - lr: 1.0000e-07\n",
            "Epoch 22/100\n",
            "94/94 [==============================] - 1s 9ms/step - loss: 5.6897 - mae: 6.1674 - lr: 1.1220e-07\n",
            "Epoch 23/100\n",
            "94/94 [==============================] - 1s 9ms/step - loss: 5.6608 - mae: 6.0927 - lr: 1.2589e-07\n",
            "Epoch 24/100\n",
            "94/94 [==============================] - 1s 9ms/step - loss: 5.5355 - mae: 6.0368 - lr: 1.4125e-07\n",
            "Epoch 25/100\n",
            "94/94 [==============================] - 1s 9ms/step - loss: 5.4880 - mae: 5.9507 - lr: 1.5849e-07\n",
            "Epoch 26/100\n",
            "94/94 [==============================] - 1s 9ms/step - loss: 5.3922 - mae: 5.8869 - lr: 1.7783e-07\n",
            "Epoch 27/100\n",
            "94/94 [==============================] - 1s 9ms/step - loss: 5.3667 - mae: 5.8208 - lr: 1.9953e-07\n",
            "Epoch 28/100\n",
            "94/94 [==============================] - 1s 9ms/step - loss: 5.2980 - mae: 5.7450 - lr: 2.2387e-07\n",
            "Epoch 29/100\n",
            "94/94 [==============================] - 1s 9ms/step - loss: 5.1850 - mae: 5.6772 - lr: 2.5119e-07\n",
            "Epoch 30/100\n",
            "94/94 [==============================] - 1s 9ms/step - loss: 5.1279 - mae: 5.6094 - lr: 2.8184e-07\n",
            "Epoch 31/100\n",
            "94/94 [==============================] - 1s 9ms/step - loss: 5.0610 - mae: 5.5444 - lr: 3.1623e-07\n",
            "Epoch 32/100\n",
            "94/94 [==============================] - 1s 10ms/step - loss: 5.0439 - mae: 5.4766 - lr: 3.5481e-07\n",
            "Epoch 33/100\n",
            "94/94 [==============================] - 1s 9ms/step - loss: 4.9071 - mae: 5.4108 - lr: 3.9811e-07\n",
            "Epoch 34/100\n",
            "94/94 [==============================] - 1s 9ms/step - loss: 4.8712 - mae: 5.3553 - lr: 4.4668e-07\n",
            "Epoch 35/100\n",
            "94/94 [==============================] - 1s 9ms/step - loss: 4.8810 - mae: 5.2735 - lr: 5.0119e-07\n",
            "Epoch 36/100\n",
            "94/94 [==============================] - 1s 9ms/step - loss: 4.7442 - mae: 5.2052 - lr: 5.6234e-07\n",
            "Epoch 37/100\n",
            "94/94 [==============================] - 1s 9ms/step - loss: 4.6886 - mae: 5.1340 - lr: 6.3096e-07\n",
            "Epoch 38/100\n",
            "94/94 [==============================] - 1s 9ms/step - loss: 4.5673 - mae: 5.0477 - lr: 7.0795e-07\n",
            "Epoch 39/100\n",
            "94/94 [==============================] - 1s 10ms/step - loss: 4.4499 - mae: 4.9537 - lr: 7.9433e-07\n",
            "Epoch 40/100\n",
            "94/94 [==============================] - 1s 9ms/step - loss: 4.3821 - mae: 4.8611 - lr: 8.9125e-07\n",
            "Epoch 41/100\n",
            "94/94 [==============================] - 1s 9ms/step - loss: 4.2673 - mae: 4.7436 - lr: 1.0000e-06\n",
            "Epoch 42/100\n",
            "94/94 [==============================] - 1s 9ms/step - loss: 4.1349 - mae: 4.6279 - lr: 1.1220e-06\n",
            "Epoch 43/100\n",
            "94/94 [==============================] - 1s 9ms/step - loss: 4.0333 - mae: 4.5201 - lr: 1.2589e-06\n",
            "Epoch 44/100\n",
            "94/94 [==============================] - 1s 9ms/step - loss: 3.9506 - mae: 4.3731 - lr: 1.4125e-06\n",
            "Epoch 45/100\n",
            "94/94 [==============================] - 1s 9ms/step - loss: 3.7908 - mae: 4.2614 - lr: 1.5849e-06\n",
            "Epoch 46/100\n",
            "94/94 [==============================] - 1s 9ms/step - loss: 3.6867 - mae: 4.0975 - lr: 1.7783e-06\n",
            "Epoch 47/100\n",
            "94/94 [==============================] - 1s 9ms/step - loss: 3.4534 - mae: 3.9366 - lr: 1.9953e-06\n",
            "Epoch 48/100\n",
            "94/94 [==============================] - 1s 9ms/step - loss: 3.3337 - mae: 3.8022 - lr: 2.2387e-06\n",
            "Epoch 49/100\n",
            "94/94 [==============================] - 1s 9ms/step - loss: 3.2874 - mae: 3.7710 - lr: 2.5119e-06\n",
            "Epoch 50/100\n",
            "94/94 [==============================] - 1s 9ms/step - loss: 3.2059 - mae: 3.6954 - lr: 2.8184e-06\n",
            "Epoch 51/100\n",
            "94/94 [==============================] - 1s 9ms/step - loss: 3.1248 - mae: 3.5952 - lr: 3.1623e-06\n",
            "Epoch 52/100\n",
            "94/94 [==============================] - 1s 9ms/step - loss: 3.0770 - mae: 3.5327 - lr: 3.5481e-06\n",
            "Epoch 53/100\n",
            "94/94 [==============================] - 1s 9ms/step - loss: 3.1110 - mae: 3.5117 - lr: 3.9811e-06\n",
            "Epoch 54/100\n",
            "94/94 [==============================] - 1s 9ms/step - loss: 3.0291 - mae: 3.4863 - lr: 4.4668e-06\n",
            "Epoch 55/100\n",
            "94/94 [==============================] - 1s 9ms/step - loss: 3.0157 - mae: 3.4741 - lr: 5.0119e-06\n",
            "Epoch 56/100\n",
            "94/94 [==============================] - 1s 9ms/step - loss: 3.0120 - mae: 3.4798 - lr: 5.6234e-06\n",
            "Epoch 57/100\n",
            "94/94 [==============================] - 1s 9ms/step - loss: 2.9782 - mae: 3.4585 - lr: 6.3096e-06\n",
            "Epoch 58/100\n",
            "94/94 [==============================] - 1s 9ms/step - loss: 2.9137 - mae: 3.3452 - lr: 7.0795e-06\n",
            "Epoch 59/100\n",
            "94/94 [==============================] - 1s 9ms/step - loss: 2.9193 - mae: 3.3837 - lr: 7.9433e-06\n",
            "Epoch 60/100\n",
            "94/94 [==============================] - 1s 9ms/step - loss: 2.9093 - mae: 3.3865 - lr: 8.9125e-06\n",
            "Epoch 61/100\n",
            "94/94 [==============================] - 1s 9ms/step - loss: 2.9627 - mae: 3.4440 - lr: 1.0000e-05\n",
            "Epoch 62/100\n",
            "94/94 [==============================] - 1s 9ms/step - loss: 2.9426 - mae: 3.4004 - lr: 1.1220e-05\n",
            "Epoch 63/100\n",
            "94/94 [==============================] - 1s 9ms/step - loss: 2.8230 - mae: 3.3112 - lr: 1.2589e-05\n",
            "Epoch 64/100\n",
            "94/94 [==============================] - 1s 9ms/step - loss: 3.1244 - mae: 3.5883 - lr: 1.4125e-05\n",
            "Epoch 65/100\n",
            "94/94 [==============================] - 1s 9ms/step - loss: 2.9875 - mae: 3.4587 - lr: 1.5849e-05\n",
            "Epoch 66/100\n",
            "94/94 [==============================] - 1s 9ms/step - loss: 2.9300 - mae: 3.4218 - lr: 1.7783e-05\n",
            "Epoch 67/100\n",
            "94/94 [==============================] - 1s 9ms/step - loss: 2.8566 - mae: 3.3258 - lr: 1.9953e-05\n",
            "Epoch 68/100\n",
            "94/94 [==============================] - 1s 9ms/step - loss: 3.0329 - mae: 3.5115 - lr: 2.2387e-05\n",
            "Epoch 69/100\n",
            "94/94 [==============================] - 1s 9ms/step - loss: 3.1916 - mae: 3.6540 - lr: 2.5119e-05\n",
            "Epoch 70/100\n",
            "94/94 [==============================] - 1s 9ms/step - loss: 3.0083 - mae: 3.4795 - lr: 2.8184e-05\n",
            "Epoch 71/100\n",
            "94/94 [==============================] - 1s 9ms/step - loss: 3.1590 - mae: 3.6460 - lr: 3.1623e-05\n",
            "Epoch 72/100\n",
            "94/94 [==============================] - 1s 9ms/step - loss: 3.3967 - mae: 3.8715 - lr: 3.5481e-05\n",
            "Epoch 73/100\n",
            "94/94 [==============================] - 1s 9ms/step - loss: 3.2096 - mae: 3.6923 - lr: 3.9811e-05\n",
            "Epoch 74/100\n",
            "94/94 [==============================] - 1s 9ms/step - loss: 3.1091 - mae: 3.5640 - lr: 4.4668e-05\n",
            "Epoch 75/100\n",
            "94/94 [==============================] - 1s 9ms/step - loss: 3.5287 - mae: 3.9904 - lr: 5.0119e-05\n",
            "Epoch 76/100\n",
            "94/94 [==============================] - 1s 9ms/step - loss: 3.6420 - mae: 4.0959 - lr: 5.6234e-05\n",
            "Epoch 77/100\n",
            "94/94 [==============================] - 1s 9ms/step - loss: 3.0138 - mae: 3.4904 - lr: 6.3096e-05\n",
            "Epoch 78/100\n",
            "94/94 [==============================] - 1s 9ms/step - loss: 3.3985 - mae: 3.8471 - lr: 7.0795e-05\n",
            "Epoch 79/100\n",
            "94/94 [==============================] - 1s 9ms/step - loss: 3.4543 - mae: 3.9369 - lr: 7.9433e-05\n",
            "Epoch 80/100\n",
            "94/94 [==============================] - 1s 9ms/step - loss: 3.2328 - mae: 3.7101 - lr: 8.9125e-05\n",
            "Epoch 81/100\n",
            "94/94 [==============================] - 1s 9ms/step - loss: 3.2411 - mae: 3.7233 - lr: 1.0000e-04\n",
            "Epoch 82/100\n",
            "94/94 [==============================] - 1s 9ms/step - loss: 3.3470 - mae: 3.8087 - lr: 1.1220e-04\n",
            "Epoch 83/100\n",
            "94/94 [==============================] - 1s 9ms/step - loss: 4.0241 - mae: 4.5003 - lr: 1.2589e-04\n",
            "Epoch 84/100\n",
            "94/94 [==============================] - 1s 9ms/step - loss: 3.0157 - mae: 3.4939 - lr: 1.4125e-04\n",
            "Epoch 85/100\n",
            "94/94 [==============================] - 1s 9ms/step - loss: 3.6835 - mae: 4.1659 - lr: 1.5849e-04\n",
            "Epoch 86/100\n",
            "94/94 [==============================] - 1s 9ms/step - loss: 3.6781 - mae: 4.1503 - lr: 1.7783e-04\n",
            "Epoch 87/100\n",
            "94/94 [==============================] - 1s 9ms/step - loss: 3.2815 - mae: 3.7530 - lr: 1.9953e-04\n",
            "Epoch 88/100\n",
            "94/94 [==============================] - 1s 9ms/step - loss: 3.2014 - mae: 3.6560 - lr: 2.2387e-04\n",
            "Epoch 89/100\n",
            "94/94 [==============================] - 1s 9ms/step - loss: 4.0156 - mae: 4.4901 - lr: 2.5119e-04\n",
            "Epoch 90/100\n",
            "94/94 [==============================] - 1s 9ms/step - loss: 3.1661 - mae: 3.6314 - lr: 2.8184e-04\n",
            "Epoch 91/100\n",
            "94/94 [==============================] - 1s 9ms/step - loss: 3.8110 - mae: 4.2665 - lr: 3.1623e-04\n",
            "Epoch 92/100\n",
            "94/94 [==============================] - 1s 9ms/step - loss: 3.2130 - mae: 3.7051 - lr: 3.5481e-04\n",
            "Epoch 93/100\n",
            "94/94 [==============================] - 1s 9ms/step - loss: 3.5495 - mae: 4.0430 - lr: 3.9811e-04\n",
            "Epoch 94/100\n",
            "94/94 [==============================] - 1s 9ms/step - loss: 3.6419 - mae: 4.1304 - lr: 4.4668e-04\n",
            "Epoch 95/100\n",
            "94/94 [==============================] - 1s 9ms/step - loss: 3.7279 - mae: 4.2278 - lr: 5.0119e-04\n",
            "Epoch 96/100\n",
            "94/94 [==============================] - 1s 9ms/step - loss: 3.9054 - mae: 4.4032 - lr: 5.6234e-04\n",
            "Epoch 97/100\n",
            "94/94 [==============================] - 1s 9ms/step - loss: 3.3884 - mae: 3.8700 - lr: 6.3096e-04\n",
            "Epoch 98/100\n",
            "94/94 [==============================] - 1s 9ms/step - loss: 4.0543 - mae: 4.4839 - lr: 7.0795e-04\n",
            "Epoch 99/100\n",
            "94/94 [==============================] - 1s 9ms/step - loss: 4.5912 - mae: 5.0571 - lr: 7.9433e-04\n",
            "Epoch 100/100\n",
            "94/94 [==============================] - 1s 9ms/step - loss: 5.2719 - mae: 5.7712 - lr: 8.9125e-04\n"
          ],
          "name": "stdout"
        }
      ]
    },
    {
      "cell_type": "code",
      "metadata": {
        "colab_type": "code",
        "id": "AkBsrsXMzoWR",
        "colab": {
          "base_uri": "https://localhost:8080/",
          "height": 290
        },
        "outputId": "a234c2b2-58b4-41dc-f8a1-b3a37933cc56"
      },
      "source": [
        "plt.semilogx(history.history[\"lr\"], history.history[\"loss\"])\n",
        "plt.axis([1e-8, 1e-4, 0, 30])\n",
        "\n",
        "# FROM THIS PICK A LEARNING RATE"
      ],
      "execution_count": 9,
      "outputs": [
        {
          "output_type": "execute_result",
          "data": {
            "text/plain": [
              "(1e-08, 0.0001, 0.0, 30.0)"
            ]
          },
          "metadata": {
            "tags": []
          },
          "execution_count": 9
        },
        {
          "output_type": "display_data",
          "data": {
            "image/png": "[encoded data removed]",
            "text/plain": [
              "<Figure size 432x288 with 1 Axes>"
            ]
          },
          "metadata": {
            "tags": [],
            "needs_background": "light"
          }
        }
      ]
    },
    {
      "cell_type": "code",
      "metadata": {
        "colab_type": "code",
        "id": "4uh-97bpLZCA",
        "colab": {
          "base_uri": "https://localhost:8080/",
          "height": 1000
        },
        "outputId": "c1cb39f5-de6a-4fad-b6db-882fc3b34169"
      },
      "source": [
        "tf.keras.backend.clear_session()\n",
        "tf.random.set_seed(51)\n",
        "np.random.seed(51)\n",
        "\n",
        "tf.keras.backend.clear_session()\n",
        "dataset = windowed_dataset(x_train, window_size, batch_size, shuffle_buffer_size)\n",
        "\n",
        "model = tf.keras.models.Sequential([\n",
        "  tf.keras.layers.Lambda(lambda x: tf.expand_dims(x, axis=-1),\n",
        "                      input_shape=[None]),\n",
        "   tf.keras.layers.Bidirectional(tf.keras.layers.LSTM(32, return_sequences=True)),\n",
        "  tf.keras.layers.Bidirectional(tf.keras.layers.LSTM(32)),\n",
        "  tf.keras.layers.Dense(1),\n",
        "  tf.keras.layers.Lambda(lambda x: x * 100.0)\n",
        "])\n",
        "\n",
        "model.compile(loss=\"mse\", optimizer='adam',metrics=[\"mae\"])\n",
        "history = model.fit(dataset,epochs=500,verbose=1)\n",
        "                                                            \n",
        "# FIND A MODEL AND A LR THAT TRAINS TO AN MAE < 3                                                          "
      ],
      "execution_count": 0,
      "outputs": [
        {
          "output_type": "stream",
          "text": [
            "Epoch 1/500\n",
            "94/94 [==============================] - 1s 9ms/step - loss: 56.4067 - mae: 4.9463\n",
            "Epoch 2/500\n",
            "94/94 [==============================] - 1s 9ms/step - loss: 27.9132 - mae: 3.5364\n",
            "Epoch 3/500\n",
            "94/94 [==============================] - 1s 9ms/step - loss: 24.6764 - mae: 3.3598\n",
            "Epoch 4/500\n",
            "94/94 [==============================] - 1s 9ms/step - loss: 25.9206 - mae: 3.4973\n",
            "Epoch 5/500\n",
            "94/94 [==============================] - 1s 9ms/step - loss: 24.3403 - mae: 3.3413\n",
            "Epoch 6/500\n",
            "94/94 [==============================] - 1s 9ms/step - loss: 24.6149 - mae: 3.3713\n",
            "Epoch 7/500\n",
            "94/94 [==============================] - 1s 9ms/step - loss: 22.8408 - mae: 3.2407\n",
            "Epoch 8/500\n",
            "94/94 [==============================] - 1s 9ms/step - loss: 23.2271 - mae: 3.2633\n",
            "Epoch 9/500\n",
            "94/94 [==============================] - 1s 9ms/step - loss: 23.3039 - mae: 3.2604\n",
            "Epoch 10/500\n",
            "94/94 [==============================] - 1s 9ms/step - loss: 22.2010 - mae: 3.1632\n",
            "Epoch 11/500\n",
            "94/94 [==============================] - 1s 9ms/step - loss: 25.1605 - mae: 3.4796\n",
            "Epoch 12/500\n",
            "94/94 [==============================] - 1s 9ms/step - loss: 22.0639 - mae: 3.1750\n",
            "Epoch 13/500\n",
            "94/94 [==============================] - 1s 9ms/step - loss: 22.9801 - mae: 3.2040\n",
            "Epoch 14/500\n",
            "94/94 [==============================] - 1s 9ms/step - loss: 25.1193 - mae: 3.4992\n",
            "Epoch 15/500\n",
            "94/94 [==============================] - 1s 9ms/step - loss: 23.4595 - mae: 3.3318\n",
            "Epoch 16/500\n",
            "94/94 [==============================] - 1s 9ms/step - loss: 21.4758 - mae: 3.1515\n",
            "Epoch 17/500\n",
            "94/94 [==============================] - 1s 9ms/step - loss: 21.6589 - mae: 3.1231\n",
            "Epoch 18/500\n",
            "94/94 [==============================] - 1s 9ms/step - loss: 22.0596 - mae: 3.1780\n",
            "Epoch 19/500\n",
            "94/94 [==============================] - 1s 9ms/step - loss: 22.8073 - mae: 3.2554\n",
            "Epoch 20/500\n",
            "94/94 [==============================] - 1s 9ms/step - loss: 22.0532 - mae: 3.2088\n",
            "Epoch 21/500\n",
            "94/94 [==============================] - 1s 9ms/step - loss: 20.8427 - mae: 3.0635\n",
            "Epoch 22/500\n",
            "94/94 [==============================] - 1s 9ms/step - loss: 21.6266 - mae: 3.0770\n",
            "Epoch 23/500\n",
            "94/94 [==============================] - 1s 9ms/step - loss: 22.6882 - mae: 3.2562\n",
            "Epoch 24/500\n",
            "94/94 [==============================] - 1s 9ms/step - loss: 20.5845 - mae: 3.0328\n",
            "Epoch 25/500\n",
            "94/94 [==============================] - 1s 9ms/step - loss: 21.0393 - mae: 3.0839\n",
            "Epoch 26/500\n",
            "94/94 [==============================] - 1s 9ms/step - loss: 21.0034 - mae: 3.1088\n",
            "Epoch 27/500\n",
            "94/94 [==============================] - 1s 9ms/step - loss: 20.6552 - mae: 3.0449\n",
            "Epoch 28/500\n",
            "94/94 [==============================] - 1s 9ms/step - loss: 20.9965 - mae: 3.1092\n",
            "Epoch 29/500\n",
            "94/94 [==============================] - 1s 9ms/step - loss: 20.5052 - mae: 3.0510\n",
            "Epoch 30/500\n",
            "94/94 [==============================] - 1s 9ms/step - loss: 20.6059 - mae: 3.0652\n",
            "Epoch 31/500\n",
            "94/94 [==============================] - 1s 9ms/step - loss: 20.4658 - mae: 3.0265\n",
            "Epoch 32/500\n",
            "94/94 [==============================] - 1s 9ms/step - loss: 20.2650 - mae: 2.9923\n",
            "Epoch 33/500\n",
            "94/94 [==============================] - 1s 9ms/step - loss: 20.8880 - mae: 3.0752\n",
            "Epoch 34/500\n",
            "94/94 [==============================] - 1s 9ms/step - loss: 20.1667 - mae: 3.0055\n",
            "Epoch 35/500\n",
            "94/94 [==============================] - 1s 9ms/step - loss: 23.4382 - mae: 2.9821\n",
            "Epoch 36/500\n",
            "94/94 [==============================] - 1s 9ms/step - loss: 20.6834 - mae: 3.0587\n",
            "Epoch 37/500\n",
            "13/94 [===>..........................] - ETA: 0s - loss: 15.6321 - mae: 2.9014"
          ],
          "name": "stdout"
        }
      ]
    },
    {
      "cell_type": "code",
      "metadata": {
        "colab_type": "code",
        "id": "icGDaND7z0ne",
        "colab": {
          "base_uri": "https://localhost:8080/",
          "height": 388
        },
        "outputId": "89388628-8594-4f05-ba70-d9c786ddd45f"
      },
      "source": [
        "forecast = []\n",
        "results = []\n",
        "for time in range(len(series) - window_size):\n",
        "  forecast.append(model.predict(series[time:time + window_size][np.newaxis]))\n",
        "\n",
        "forecast = forecast[split_time-window_size:]\n",
        "results = np.array(forecast)[:, 0, 0]\n",
        "\n",
        "\n",
        "plt.figure(figsize=(10, 6))\n",
        "\n",
        "plot_series(time_valid, x_valid)\n",
        "plot_series(time_valid, results)"
      ],
      "execution_count": 11,
      "outputs": [
        {
          "output_type": "display_data",
          "data": {
            "image/png": "[encoded data removed]",
            "text/plain": [
              "<Figure size 720x432 with 1 Axes>"
            ]
          },
          "metadata": {
            "tags": [],
            "needs_background": "light"
          }
        }
      ]
    },
    {
      "cell_type": "code",
      "metadata": {
        "colab_type": "code",
        "id": "KfPeqI7rz4LD",
        "outputId": "62e5b46a-28a4-4b8c-b3d9-2dba15338e26",
        "colab": {
          "base_uri": "https://localhost:8080/",
          "height": 34
        }
      },
      "source": [
        "tf.keras.metrics.mean_absolute_error(x_valid, results).numpy()\n",
        "\n",
        "# YOUR RESULT HERE SHOULD BE LESS THAN 4"
      ],
      "execution_count": 12,
      "outputs": [
        {
          "output_type": "execute_result",
          "data": {
            "text/plain": [
              "nan"
            ]
          },
          "metadata": {
            "tags": []
          },
          "execution_count": 12
        }
      ]
    },
    {
      "cell_type": "code",
      "metadata": {
        "colab_type": "code",
        "id": "JUsdZB_tzDLe",
        "colab": {}
      },
      "source": [
        "import matplotlib.image  as mpimg\n",
        "import matplotlib.pyplot as plt\n",
        "\n",
        "#-----------------------------------------------------------\n",
        "# Retrieve a list of list results on training and test data\n",
        "# sets for each training epoch\n",
        "#-----------------------------------------------------------\n",
        "mae=history.history['mae']\n",
        "loss=history.history['loss']\n",
        "\n",
        "epochs=range(len(loss)) # Get number of epochs\n",
        "\n",
        "#------------------------------------------------\n",
        "# Plot MAE and Loss\n",
        "#------------------------------------------------\n",
        "plt.plot(epochs, mae, 'r')\n",
        "plt.plot(epochs, loss, 'b')\n",
        "plt.title('MAE and Loss')\n",
        "plt.xlabel(\"Epochs\")\n",
        "plt.ylabel(\"Accuracy\")\n",
        "plt.legend([\"MAE\", \"Loss\"])\n",
        "\n",
        "plt.figure()\n",
        "\n",
        "epochs_zoom = epochs[200:]\n",
        "mae_zoom = mae[200:]\n",
        "loss_zoom = loss[200:]\n",
        "\n",
        "#------------------------------------------------\n",
        "# Plot Zoomed MAE and Loss\n",
        "#------------------------------------------------\n",
        "plt.plot(epochs_zoom, mae_zoom, 'r')\n",
        "plt.plot(epochs_zoom, loss_zoom, 'b')\n",
        "plt.title('MAE and Loss')\n",
        "plt.xlabel(\"Epochs\")\n",
        "plt.ylabel(\"Accuracy\")\n",
        "plt.legend([\"MAE\", \"Loss\"])\n",
        "\n",
        "plt.figure()"
      ],
      "execution_count": 0,
      "outputs": []
    }
  ]
}