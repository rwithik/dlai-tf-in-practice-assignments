{
  "nbformat": 4,
  "nbformat_minor": 0,
  "metadata": {
    "accelerator": "GPU",
    "colab": {
      "name": "Course 3 - Week 2 - Exercise - Question.ipynb",
      "provenance": [],
      "toc_visible": true
    },
    "kernelspec": {
      "display_name": "Python 3",
      "name": "python3"
    }
  },
  "cells": [
    {
      "cell_type": "code",
      "metadata": {
        "id": "zX4Kg8DUTKWO",
        "colab_type": "code",
        "colab": {}
      },
      "source": [
        "#@title Licensed under the Apache License, Version 2.0 (the \"License\");\n",
        "# you may not use this file except in compliance with the License.\n",
        "# You may obtain a copy of the License at\n",
        "#\n",
        "# https://www.apache.org/licenses/LICENSE-2.0\n",
        "#\n",
        "# Unless required by applicable law or agreed to in writing, software\n",
        "# distributed under the License is distributed on an \"AS IS\" BASIS,\n",
        "# WITHOUT WARRANTIES OR CONDITIONS OF ANY KIND, either express or implied.\n",
        "# See the License for the specific language governing permissions and\n",
        "# limitations under the License."
      ],
      "execution_count": 0,
      "outputs": []
    },
    {
      "cell_type": "markdown",
      "metadata": {
        "colab_type": "text",
        "id": "view-in-github"
      },
      "source": [
        "<a href=\"https://colab.research.google.com/github/lmoroney/dlaicourse/blob/master/TensorFlow%20In%20Practice/Course%203%20-%20NLP/Course%203%20-%20Week%202%20-%20Exercise%20-%20Question.ipynb\" target=\"_parent\"><img src=\"https://colab.research.google.com/assets/colab-badge.svg\" alt=\"Open In Colab\"/></a>"
      ]
    },
    {
      "cell_type": "code",
      "metadata": {
        "colab_type": "code",
        "id": "gnwiOnGyW5JK",
        "colab": {
          "base_uri": "https://localhost:8080/",
          "height": 208
        },
        "outputId": "cd1dbe2d-44c7-4d09-cc7b-6840b9ae16e7"
      },
      "source": [
        "import csv\n",
        "import tensorflow as tf\n",
        "import numpy as np\n",
        "from tensorflow.keras.preprocessing.text import Tokenizer\n",
        "from tensorflow.keras.preprocessing.sequence import pad_sequences\n",
        "\n",
        "!wget --no-check-certificate \\\n",
        "    https://storage.googleapis.com/laurencemoroney-blog.appspot.com/bbc-text.csv \\\n",
        "    -O /tmp/bbc-text.csv"
      ],
      "execution_count": 1,
      "outputs": [
        {
          "output_type": "stream",
          "text": [
            "--2020-04-11 09:43:27--  https://storage.googleapis.com/laurencemoroney-blog.appspot.com/bbc-text.csv\n",
            "Resolving storage.googleapis.com (storage.googleapis.com)... 74.125.24.128, 2404:6800:4003:c02::80\n",
            "Connecting to storage.googleapis.com (storage.googleapis.com)|74.125.24.128|:443... connected.\n",
            "HTTP request sent, awaiting response... 200 OK\n",
            "Length: 5057493 (4.8M) [application/octet-stream]\n",
            "Saving to: ‘/tmp/bbc-text.csv’\n",
            "\n",
            "\r/tmp/bbc-text.csv     0%[                    ]       0  --.-KB/s               \r/tmp/bbc-text.csv   100%[===================>]   4.82M  --.-KB/s    in 0.03s   \n",
            "\n",
            "2020-04-11 09:43:27 (161 MB/s) - ‘/tmp/bbc-text.csv’ saved [5057493/5057493]\n",
            "\n"
          ],
          "name": "stdout"
        }
      ]
    },
    {
      "cell_type": "code",
      "metadata": {
        "colab_type": "code",
        "id": "EYo6A4v5ZABQ",
        "colab": {}
      },
      "source": [
        "vocab_size = 1000 # YOUR CODE HERE\n",
        "embedding_dim = 16 # YOUR CODE HERE\n",
        "max_length = 120 # YOUR CODE HERE\n",
        "trunc_type = 'post' # YOUR CODE HERE\n",
        "padding_type = 'post' # YOUR CODE HERE\n",
        "oov_tok = '<oov>' # YOUR CODE HERE\n",
        "training_portion = .8"
      ],
      "execution_count": 0,
      "outputs": []
    },
    {
      "cell_type": "code",
      "metadata": {
        "colab_type": "code",
        "id": "iU1qq3_SZBx_",
        "colab": {
          "base_uri": "https://localhost:8080/",
          "height": 34
        },
        "outputId": "37c344c3-c9db-42f3-a2ce-a9e02a0e2803"
      },
      "source": [
        "sentences = []\n",
        "labels = []\n",
        "stopwords = [ \"a\", \"about\", \"above\", \"after\", \"again\", \"against\", \"all\", \"am\", \"an\", \"and\", \"any\", \"are\", \"as\", \"at\", \"be\", \"because\", \"been\", \"before\", \"being\", \"below\", \"between\", \"both\", \"but\", \"by\", \"could\", \"did\", \"do\", \"does\", \"doing\", \"down\", \"during\", \"each\", \"few\", \"for\", \"from\", \"further\", \"had\", \"has\", \"have\", \"having\", \"he\", \"he'd\", \"he'll\", \"he's\", \"her\", \"here\", \"here's\", \"hers\", \"herself\", \"him\", \"himself\", \"his\", \"how\", \"how's\", \"i\", \"i'd\", \"i'll\", \"i'm\", \"i've\", \"if\", \"in\", \"into\", \"is\", \"it\", \"it's\", \"its\", \"itself\", \"let's\", \"me\", \"more\", \"most\", \"my\", \"myself\", \"nor\", \"of\", \"on\", \"once\", \"only\", \"or\", \"other\", \"ought\", \"our\", \"ours\", \"ourselves\", \"out\", \"over\", \"own\", \"same\", \"she\", \"she'd\", \"she'll\", \"she's\", \"should\", \"so\", \"some\", \"such\", \"than\", \"that\", \"that's\", \"the\", \"their\", \"theirs\", \"them\", \"themselves\", \"then\", \"there\", \"there's\", \"these\", \"they\", \"they'd\", \"they'll\", \"they're\", \"they've\", \"this\", \"those\", \"through\", \"to\", \"too\", \"under\", \"until\", \"up\", \"very\", \"was\", \"we\", \"we'd\", \"we'll\", \"we're\", \"we've\", \"were\", \"what\", \"what's\", \"when\", \"when's\", \"where\", \"where's\", \"which\", \"while\", \"who\", \"who's\", \"whom\", \"why\", \"why's\", \"with\", \"would\", \"you\", \"you'd\", \"you'll\", \"you're\", \"you've\", \"your\", \"yours\", \"yourself\", \"yourselves\" ]\n",
        "print(len(stopwords))\n",
        "# Expected Output\n",
        "# 153"
      ],
      "execution_count": 3,
      "outputs": [
        {
          "output_type": "stream",
          "text": [
            "153\n"
          ],
          "name": "stdout"
        }
      ]
    },
    {
      "cell_type": "code",
      "metadata": {
        "colab_type": "code",
        "id": "eutB2xMiZD0e",
        "colab": {
          "base_uri": "https://localhost:8080/",
          "height": 89
        },
        "outputId": "4794c40c-667a-47f7-e5bd-07eb53f53c74"
      },
      "source": [
        "with open(\"/tmp/bbc-text.csv\", 'r') as csvfile:\n",
        "    # YOUR CODE HERE\n",
        "    data = csv.reader(csvfile, delimiter=',')\n",
        "    next(data)\n",
        "    for row in data:\n",
        "        labels.append(row[0])\n",
        "        sentence = row[1]\n",
        "        for word in stopwords:\n",
        "            sentence.replace(\" \" + word + \" \", \" \")\n",
        "        sentences.append(sentence)\n",
        "    \n",
        "print(len(labels))\n",
        "print(len(sentences))\n",
        "print(sentences[0])\n",
        "# Expected Output\n",
        "# 2225\n",
        "# 2225\n",
        "# tv future hands viewers home theatre systems  plasma high-definition tvs  digital video recorders moving living room  way people watch tv will radically different five years  time.  according expert panel gathered annual consumer electronics show las vegas discuss new technologies will impact one favourite pastimes. us leading trend  programmes content will delivered viewers via home networks  cable  satellite  telecoms companies  broadband service providers front rooms portable devices.  one talked-about technologies ces digital personal video recorders (dvr pvr). set-top boxes  like us s tivo uk s sky+ system  allow people record  store  play  pause forward wind tv programmes want.  essentially  technology allows much personalised tv. also built-in high-definition tv sets  big business japan us  slower take off europe lack high-definition programming. not can people forward wind adverts  can also forget abiding network channel schedules  putting together a-la-carte entertainment. us networks cable satellite companies worried means terms advertising revenues well  brand identity  viewer loyalty channels. although us leads technology moment  also concern raised europe  particularly growing uptake services like sky+.  happens today  will see nine months years  time uk   adam hume  bbc broadcast s futurologist told bbc news website. likes bbc  no issues lost advertising revenue yet. pressing issue moment commercial uk broadcasters  brand loyalty important everyone.  will talking content brands rather network brands   said tim hanlon  brand communications firm starcom mediavest.  reality broadband connections  anybody can producer content.  added:  challenge now hard promote programme much choice.   means  said stacey jolna  senior vice president tv guide tv group  way people find content want watch simplified tv viewers. means networks  us terms  channels take leaf google s book search engine future  instead scheduler help people find want watch. kind channel model might work younger ipod generation used taking control gadgets play them. might not suit everyone  panel recognised. older generations comfortable familiar schedules channel brands know getting. perhaps not want much choice put hands  mr hanlon suggested.  end  kids just diapers pushing buttons already - everything possible available   said mr hanlon.  ultimately  consumer will tell market want.   50 000 new gadgets technologies showcased ces  many enhancing tv-watching experience. high-definition tv sets everywhere many new models lcd (liquid crystal display) tvs launched dvr capability built  instead external boxes. one example launched show humax s 26-inch lcd tv 80-hour tivo dvr dvd recorder. one us s biggest satellite tv companies  directtv  even launched branded dvr show 100-hours recording capability  instant replay  search function. set can pause rewind tv 90 hours. microsoft chief bill gates announced pre-show keynote speech partnership tivo  called tivotogo  means people can play recorded programmes windows pcs mobile devices. reflect increasing trend freeing multimedia people can watch want  want."
      ],
      "execution_count": 4,
      "outputs": [
        {
          "output_type": "stream",
          "text": [
            "2225\n",
            "2225\n",
            "tv future in the hands of viewers with home theatre systems  plasma high-definition tvs  and digital video recorders moving into the living room  the way people watch tv will be radically different in five years  time.  that is according to an expert panel which gathered at the annual consumer electronics show in las vegas to discuss how these new technologies will impact one of our favourite pastimes. with the us leading the trend  programmes and other content will be delivered to viewers via home networks  through cable  satellite  telecoms companies  and broadband service providers to front rooms and portable devices.  one of the most talked-about technologies of ces has been digital and personal video recorders (dvr and pvr). these set-top boxes  like the us s tivo and the uk s sky+ system  allow people to record  store  play  pause and forward wind tv programmes when they want.  essentially  the technology allows for much more personalised tv. they are also being built-in to high-definition tv sets  which are big business in japan and the us  but slower to take off in europe because of the lack of high-definition programming. not only can people forward wind through adverts  they can also forget about abiding by network and channel schedules  putting together their own a-la-carte entertainment. but some us networks and cable and satellite companies are worried about what it means for them in terms of advertising revenues as well as  brand identity  and viewer loyalty to channels. although the us leads in this technology at the moment  it is also a concern that is being raised in europe  particularly with the growing uptake of services like sky+.  what happens here today  we will see in nine months to a years  time in the uk   adam hume  the bbc broadcast s futurologist told the bbc news website. for the likes of the bbc  there are no issues of lost advertising revenue yet. it is a more pressing issue at the moment for commercial uk broadcasters  but brand loyalty is important for everyone.  we will be talking more about content brands rather than network brands   said tim hanlon  from brand communications firm starcom mediavest.  the reality is that with broadband connections  anybody can be the producer of content.  he added:  the challenge now is that it is hard to promote a programme with so much choice.   what this means  said stacey jolna  senior vice president of tv guide tv group  is that the way people find the content they want to watch has to be simplified for tv viewers. it means that networks  in us terms  or channels could take a leaf out of google s book and be the search engine of the future  instead of the scheduler to help people find what they want to watch. this kind of channel model might work for the younger ipod generation which is used to taking control of their gadgets and what they play on them. but it might not suit everyone  the panel recognised. older generations are more comfortable with familiar schedules and channel brands because they know what they are getting. they perhaps do not want so much of the choice put into their hands  mr hanlon suggested.  on the other end  you have the kids just out of diapers who are pushing buttons already - everything is possible and available to them   said mr hanlon.  ultimately  the consumer will tell the market they want.   of the 50 000 new gadgets and technologies being showcased at ces  many of them are about enhancing the tv-watching experience. high-definition tv sets are everywhere and many new models of lcd (liquid crystal display) tvs have been launched with dvr capability built into them  instead of being external boxes. one such example launched at the show is humax s 26-inch lcd tv with an 80-hour tivo dvr and dvd recorder. one of the us s biggest satellite tv companies  directtv  has even launched its own branded dvr at the show with 100-hours of recording capability  instant replay  and a search function. the set can pause and rewind tv for up to 90 hours. and microsoft chief bill gates announced in his pre-show keynote speech a partnership with tivo  called tivotogo  which means people can play recorded programmes on windows pcs and mobile devices. all these reflect the increasing trend of freeing up multimedia so that people can watch what they want  when they want.\n"
          ],
          "name": "stdout"
        }
      ]
    },
    {
      "cell_type": "code",
      "metadata": {
        "colab_type": "code",
        "id": "XfdaWh06ZGe3",
        "colab": {
          "base_uri": "https://localhost:8080/",
          "height": 104
        },
        "outputId": "33471d9f-de53-4985-87fb-606e575f4b42"
      },
      "source": [
        "train_size = int(training_portion * len(labels)) # YOUR CODE HERE\n",
        "\n",
        "train_sentences = sentences[:train_size] # YOUR CODE HERE\n",
        "train_labels = labels[:train_size] # YOUR CODE HERE\n",
        "\n",
        "validation_sentences = sentences[train_size:] # YOUR CODE HERE\n",
        "validation_labels = labels[train_size:] # YOUR CODE HERE\n",
        "\n",
        "print(train_size)\n",
        "print(len(train_sentences))\n",
        "print(len(train_labels))\n",
        "print(len(validation_sentences))\n",
        "print(len(validation_labels))\n",
        "\n",
        "# Expected output (if training_portion=.8)\n",
        "# 1780\n",
        "# 1780\n",
        "# 1780\n",
        "# 445\n",
        "# 445"
      ],
      "execution_count": 16,
      "outputs": [
        {
          "output_type": "stream",
          "text": [
            "1780\n",
            "1780\n",
            "1780\n",
            "445\n",
            "445\n"
          ],
          "name": "stdout"
        }
      ]
    },
    {
      "cell_type": "code",
      "metadata": {
        "colab_type": "code",
        "id": "ULzA8xhwZI22",
        "colab": {
          "base_uri": "https://localhost:8080/",
          "height": 121
        },
        "outputId": "66806721-eb2d-4504-de17-e6c427455b73"
      },
      "source": [
        "tokenizer = Tokenizer(num_words=vocab_size, oov_token=oov_tok) # YOUR CODE HERE\n",
        "tokenizer.fit_on_texts(train_sentences)\n",
        "word_index = tokenizer.word_index # YOUR CODE HERE\n",
        "\n",
        "train_sequences = tokenizer.texts_to_sequences(train_sentences) # YOUR CODE HERE\n",
        "train_padded = pad_sequences(train_sequences, maxlen=max_length, padding=padding_type) # YOUR CODE HERE\n",
        "\n",
        "print(len(train_sequences[0]))\n",
        "print(len(train_padded[0]))\n",
        "\n",
        "print(len(train_sequences[1]))\n",
        "print(len(train_padded[1]))\n",
        "\n",
        "print(len(train_sequences[10]))\n",
        "print(len(train_padded[10]))\n",
        "\n",
        "# Expected Ouput\n",
        "# 449\n",
        "# 120\n",
        "# 200\n",
        "# 120\n",
        "# 192\n",
        "# 120"
      ],
      "execution_count": 17,
      "outputs": [
        {
          "output_type": "stream",
          "text": [
            "750\n",
            "120\n",
            "300\n",
            "120\n",
            "311\n",
            "120\n"
          ],
          "name": "stdout"
        }
      ]
    },
    {
      "cell_type": "code",
      "metadata": {
        "colab_type": "code",
        "id": "c8PeFWzPZLW_",
        "colab": {
          "base_uri": "https://localhost:8080/",
          "height": 52
        },
        "outputId": "f00e4979-7f9c-459d-d980-77a8f332ddf7"
      },
      "source": [
        "validation_sequences = tokenizer.texts_to_sequences(validation_sentences)\n",
        "validation_padded = pad_sequences(validation_sequences, padding=padding_type, maxlen=max_length)\n",
        "\n",
        "print(len(validation_sequences))\n",
        "print(validation_padded.shape)\n",
        "\n",
        "# Expected output\n",
        "# 445\n",
        "# (445, 120)"
      ],
      "execution_count": 18,
      "outputs": [
        {
          "output_type": "stream",
          "text": [
            "445\n",
            "(445, 120)\n"
          ],
          "name": "stdout"
        }
      ]
    },
    {
      "cell_type": "code",
      "metadata": {
        "colab_type": "code",
        "id": "XkWiQ_FKZNp2",
        "colab": {
          "base_uri": "https://localhost:8080/",
          "height": 211
        },
        "outputId": "4aeb72aa-64b4-4018-e34c-45a2b7b10d24"
      },
      "source": [
        "label_tokenizer = Tokenizer()\n",
        "label_tokenizer.fit_on_texts(labels)\n",
        "# print(label_tokenizer.word_index)\n",
        "print(validation_labels)\n",
        "training_label_seq = np.array(label_tokenizer.texts_to_sequences(train_labels))\n",
        "validation_label_seq = np.array(label_tokenizer.texts_to_sequences(validation_labels))\n",
        "\n",
        "print(training_label_seq[0])\n",
        "print(training_label_seq[1])\n",
        "print(training_label_seq[2])\n",
        "print(training_label_seq.shape)\n",
        "print(labels)\n",
        "print(validation_label_seq[0])\n",
        "print(validation_label_seq[1])\n",
        "print(validation_label_seq[2])\n",
        "print(validation_label_seq.shape)\n",
        "\n",
        "# Expected output\n",
        "# [4]\n",
        "# [2]\n",
        "# [1]\n",
        "# (1780, 1)\n",
        "# [5]\n",
        "# [4]\n",
        "# [3]\n",
        "# (445, 1)"
      ],
      "execution_count": 19,
      "outputs": [
        {
          "output_type": "stream",
          "text": [
            "['entertainment', 'tech', 'politics', 'sport', 'sport', 'tech', 'business', 'tech', 'entertainment', 'entertainment', 'politics', 'politics', 'business', 'entertainment', 'sport', 'entertainment', 'entertainment', 'business', 'sport', 'politics', 'tech', 'business', 'sport', 'entertainment', 'tech', 'politics', 'politics', 'sport', 'sport', 'business', 'business', 'business', 'business', 'business', 'entertainment', 'business', 'politics', 'politics', 'tech', 'tech', 'entertainment', 'politics', 'entertainment', 'business', 'politics', 'sport', 'sport', 'business', 'tech', 'business', 'tech', 'sport', 'business', 'business', 'politics', 'sport', 'sport', 'politics', 'politics', 'entertainment', 'entertainment', 'politics', 'business', 'politics', 'politics', 'business', 'tech', 'politics', 'politics', 'politics', 'politics', 'politics', 'entertainment', 'entertainment', 'tech', 'politics', 'sport', 'politics', 'sport', 'tech', 'sport', 'sport', 'sport', 'entertainment', 'tech', 'entertainment', 'tech', 'sport', 'tech', 'sport', 'sport', 'entertainment', 'entertainment', 'business', 'entertainment', 'entertainment', 'politics', 'business', 'sport', 'tech', 'tech', 'politics', 'business', 'sport', 'business', 'entertainment', 'sport', 'politics', 'entertainment', 'sport', 'sport', 'business', 'politics', 'tech', 'tech', 'business', 'business', 'sport', 'politics', 'entertainment', 'sport', 'sport', 'politics', 'entertainment', 'tech', 'sport', 'entertainment', 'business', 'politics', 'sport', 'politics', 'tech', 'entertainment', 'sport', 'politics', 'business', 'entertainment', 'politics', 'entertainment', 'politics', 'sport', 'politics', 'business', 'business', 'politics', 'business', 'tech', 'sport', 'business', 'entertainment', 'business', 'sport', 'sport', 'entertainment', 'tech', 'politics', 'tech', 'politics', 'politics', 'sport', 'sport', 'sport', 'business', 'tech', 'entertainment', 'business', 'sport', 'business', 'sport', 'business', 'tech', 'business', 'business', 'business', 'business', 'sport', 'sport', 'sport', 'business', 'business', 'entertainment', 'business', 'business', 'business', 'sport', 'sport', 'sport', 'tech', 'business', 'sport', 'sport', 'sport', 'business', 'entertainment', 'tech', 'tech', 'tech', 'politics', 'business', 'business', 'tech', 'business', 'tech', 'sport', 'sport', 'politics', 'politics', 'politics', 'sport', 'sport', 'politics', 'politics', 'tech', 'business', 'sport', 'sport', 'sport', 'sport', 'business', 'sport', 'business', 'business', 'business', 'business', 'sport', 'politics', 'sport', 'tech', 'tech', 'sport', 'tech', 'business', 'entertainment', 'business', 'sport', 'business', 'tech', 'tech', 'politics', 'entertainment', 'business', 'entertainment', 'business', 'tech', 'politics', 'entertainment', 'politics', 'entertainment', 'entertainment', 'tech', 'business', 'tech', 'tech', 'business', 'politics', 'sport', 'entertainment', 'business', 'politics', 'entertainment', 'business', 'tech', 'sport', 'tech', 'politics', 'sport', 'politics', 'business', 'politics', 'politics', 'business', 'business', 'business', 'tech', 'politics', 'business', 'politics', 'business', 'entertainment', 'politics', 'sport', 'politics', 'politics', 'sport', 'entertainment', 'tech', 'tech', 'business', 'tech', 'sport', 'business', 'business', 'politics', 'sport', 'tech', 'tech', 'tech', 'sport', 'entertainment', 'sport', 'politics', 'business', 'politics', 'politics', 'entertainment', 'tech', 'business', 'tech', 'sport', 'entertainment', 'entertainment', 'sport', 'business', 'entertainment', 'tech', 'tech', 'sport', 'entertainment', 'business', 'politics', 'politics', 'politics', 'tech', 'tech', 'business', 'politics', 'business', 'politics', 'politics', 'entertainment', 'sport', 'tech', 'business', 'tech', 'entertainment', 'tech', 'tech', 'sport', 'politics', 'sport', 'sport', 'politics', 'entertainment', 'entertainment', 'business', 'politics', 'politics', 'sport', 'business', 'business', 'tech', 'business', 'tech', 'tech', 'sport', 'business', 'politics', 'sport', 'business', 'business', 'sport', 'tech', 'sport', 'tech', 'entertainment', 'sport', 'sport', 'entertainment', 'business', 'tech', 'sport', 'sport', 'politics', 'tech', 'business', 'politics', 'sport', 'sport', 'politics', 'entertainment', 'tech', 'tech', 'tech', 'business', 'sport', 'entertainment', 'entertainment', 'tech', 'business', 'politics', 'tech', 'sport', 'sport', 'tech', 'tech', 'politics', 'business', 'sport', 'entertainment', 'entertainment', 'sport', 'entertainment', 'tech', 'tech', 'business', 'business', 'business', 'sport', 'sport', 'tech', 'sport', 'business', 'tech', 'business', 'business', 'sport', 'business', 'politics', 'business', 'business', 'tech', 'business', 'tech', 'politics', 'tech', 'entertainment', 'politics', 'tech', 'entertainment', 'sport', 'politics', 'entertainment', 'business', 'tech', 'business', 'tech', 'entertainment', 'tech', 'sport', 'business', 'business', 'politics', 'entertainment', 'politics', 'sport']\n",
            "[4]\n",
            "[2]\n",
            "[1]\n",
            "(1780, 1)\n",
            "['tech', 'business', 'sport', 'sport', 'entertainment', 'politics', 'politics', 'sport', 'sport', 'entertainment', 'entertainment', 'business', 'business', 'politics', 'sport', 'business', 'politics', 'sport', 'business', 'tech', 'tech', 'tech', 'sport', 'sport', 'tech', 'sport', 'entertainment', 'tech', 'politics', 'entertainment', 'politics', 'tech', 'entertainment', 'entertainment', 'business', 'politics', 'tech', 'entertainment', 'politics', 'business', 'politics', 'sport', 'business', 'sport', 'tech', 'entertainment', 'politics', 'politics', 'politics', 'business', 'sport', 'politics', 'business', 'business', 'sport', 'politics', 'business', 'sport', 'sport', 'business', 'business', 'sport', 'business', 'sport', 'business', 'tech', 'business', 'entertainment', 'tech', 'business', 'politics', 'business', 'politics', 'sport', 'business', 'tech', 'business', 'sport', 'sport', 'business', 'business', 'sport', 'politics', 'business', 'entertainment', 'politics', 'politics', 'business', 'entertainment', 'business', 'sport', 'sport', 'politics', 'sport', 'politics', 'sport', 'business', 'sport', 'business', 'entertainment', 'entertainment', 'sport', 'business', 'politics', 'politics', 'tech', 'sport', 'entertainment', 'sport', 'tech', 'business', 'entertainment', 'sport', 'entertainment', 'sport', 'entertainment', 'entertainment', 'politics', 'sport', 'sport', 'entertainment', 'politics', 'business', 'tech', 'business', 'business', 'tech', 'sport', 'politics', 'sport', 'tech', 'entertainment', 'sport', 'business', 'business', 'tech', 'entertainment', 'tech', 'sport', 'business', 'business', 'business', 'tech', 'sport', 'tech', 'business', 'sport', 'entertainment', 'sport', 'tech', 'sport', 'tech', 'politics', 'business', 'tech', 'entertainment', 'sport', 'business', 'politics', 'business', 'entertainment', 'politics', 'politics', 'entertainment', 'politics', 'business', 'entertainment', 'politics', 'politics', 'entertainment', 'politics', 'sport', 'business', 'politics', 'politics', 'business', 'entertainment', 'sport', 'business', 'business', 'sport', 'tech', 'sport', 'tech', 'tech', 'sport', 'business', 'sport', 'politics', 'entertainment', 'politics', 'business', 'politics', 'business', 'tech', 'politics', 'entertainment', 'politics', 'tech', 'business', 'sport', 'business', 'sport', 'tech', 'entertainment', 'business', 'politics', 'politics', 'entertainment', 'sport', 'entertainment', 'politics', 'sport', 'entertainment', 'sport', 'sport', 'entertainment', 'sport', 'politics', 'politics', 'entertainment', 'tech', 'sport', 'politics', 'business', 'entertainment', 'tech', 'sport', 'tech', 'sport', 'entertainment', 'politics', 'sport', 'entertainment', 'tech', 'business', 'tech', 'business', 'business', 'tech', 'business', 'sport', 'business', 'sport', 'business', 'sport', 'entertainment', 'business', 'business', 'entertainment', 'sport', 'sport', 'politics', 'tech', 'politics', 'politics', 'politics', 'tech', 'sport', 'tech', 'politics', 'business', 'tech', 'entertainment', 'tech', 'sport', 'sport', 'business', 'business', 'politics', 'business', 'tech', 'sport', 'entertainment', 'sport', 'politics', 'tech', 'entertainment', 'business', 'sport', 'entertainment', 'sport', 'tech', 'politics', 'tech', 'business', 'business', 'politics', 'politics', 'sport', 'business', 'tech', 'entertainment', 'politics', 'tech', 'business', 'entertainment', 'sport', 'entertainment', 'sport', 'entertainment', 'politics', 'business', 'sport', 'business', 'sport', 'sport', 'entertainment', 'sport', 'politics', 'politics', 'business', 'entertainment', 'tech', 'business', 'sport', 'business', 'entertainment', 'business', 'business', 'business', 'politics', 'business', 'politics', 'entertainment', 'entertainment', 'business', 'sport', 'business', 'politics', 'business', 'tech', 'entertainment', 'business', 'sport', 'sport', 'entertainment', 'business', 'business', 'politics', 'tech', 'entertainment', 'tech', 'politics', 'business', 'sport', 'politics', 'business', 'entertainment', 'tech', 'entertainment', 'tech', 'politics', 'sport', 'entertainment', 'business', 'politics', 'business', 'business', 'politics', 'sport', 'tech', 'business', 'business', 'entertainment', 'entertainment', 'tech', 'sport', 'business', 'entertainment', 'tech', 'tech', 'entertainment', 'entertainment', 'entertainment', 'politics', 'sport', 'politics', 'tech', 'business', 'entertainment', 'politics', 'business', 'entertainment', 'politics', 'politics', 'sport', 'sport', 'business', 'politics', 'entertainment', 'business', 'sport', 'business', 'business', 'sport', 'business', 'politics', 'politics', 'politics', 'sport', 'tech', 'tech', 'business', 'tech', 'sport', 'entertainment', 'business', 'politics', 'business', 'entertainment', 'business', 'politics', 'entertainment', 'politics', 'business', 'tech', 'business', 'sport', 'sport', 'business', 'sport', 'sport', 'entertainment', 'sport', 'sport', 'sport', 'tech', 'business', 'business', 'business', 'politics', 'sport', 'sport', 'business', 'tech', 'business', 'politics', 'sport', 'politics', 'tech', 'business', 'sport', 'entertainment', 'business', 'politics', 'tech', 'business', 'sport', 'business', 'politics', 'business', 'business', 'sport', 'entertainment', 'tech', 'politics', 'tech', 'business', 'sport', 'business', 'entertainment', 'tech', 'tech', 'business', 'sport', 'sport', 'entertainment', 'politics', 'politics', 'politics', 'sport', 'politics', 'tech', 'tech', 'entertainment', 'politics', 'tech', 'entertainment', 'business', 'sport', 'sport', 'tech', 'business', 'sport', 'sport', 'politics', 'sport', 'sport', 'business', 'sport', 'entertainment', 'tech', 'politics', 'sport', 'politics', 'tech', 'business', 'business', 'business', 'tech', 'business', 'business', 'sport', 'sport', 'sport', 'sport', 'business', 'tech', 'entertainment', 'sport', 'sport', 'tech', 'business', 'tech', 'entertainment', 'politics', 'sport', 'business', 'politics', 'business', 'tech', 'tech', 'politics', 'tech', 'business', 'sport', 'business', 'entertainment', 'sport', 'politics', 'entertainment', 'sport', 'sport', 'politics', 'tech', 'entertainment', 'tech', 'sport', 'politics', 'business', 'entertainment', 'politics', 'business', 'entertainment', 'sport', 'sport', 'tech', 'politics', 'entertainment', 'politics', 'entertainment', 'politics', 'tech', 'politics', 'entertainment', 'sport', 'business', 'sport', 'entertainment', 'sport', 'entertainment', 'tech', 'business', 'sport', 'politics', 'entertainment', 'politics', 'entertainment', 'entertainment', 'entertainment', 'politics', 'entertainment', 'tech', 'politics', 'tech', 'tech', 'sport', 'sport', 'tech', 'tech', 'sport', 'entertainment', 'entertainment', 'sport', 'tech', 'entertainment', 'sport', 'sport', 'tech', 'business', 'politics', 'tech', 'business', 'sport', 'entertainment', 'sport', 'entertainment', 'politics', 'tech', 'entertainment', 'entertainment', 'business', 'entertainment', 'entertainment', 'sport', 'tech', 'tech', 'politics', 'sport', 'tech', 'sport', 'politics', 'politics', 'entertainment', 'tech', 'business', 'tech', 'tech', 'tech', 'business', 'politics', 'politics', 'sport', 'tech', 'business', 'business', 'entertainment', 'entertainment', 'sport', 'tech', 'business', 'tech', 'entertainment', 'sport', 'tech', 'politics', 'tech', 'politics', 'business', 'politics', 'politics', 'business', 'sport', 'tech', 'sport', 'tech', 'politics', 'entertainment', 'tech', 'sport', 'entertainment', 'tech', 'sport', 'politics', 'entertainment', 'sport', 'tech', 'sport', 'sport', 'politics', 'entertainment', 'business', 'politics', 'entertainment', 'business', 'business', 'tech', 'business', 'entertainment', 'tech', 'sport', 'tech', 'politics', 'tech', 'politics', 'business', 'politics', 'entertainment', 'sport', 'business', 'business', 'business', 'entertainment', 'sport', 'business', 'entertainment', 'entertainment', 'sport', 'entertainment', 'politics', 'politics', 'politics', 'sport', 'sport', 'sport', 'tech', 'politics', 'sport', 'politics', 'politics', 'tech', 'politics', 'sport', 'business', 'entertainment', 'sport', 'business', 'business', 'tech', 'business', 'entertainment', 'entertainment', 'entertainment', 'business', 'entertainment', 'entertainment', 'politics', 'tech', 'business', 'sport', 'tech', 'sport', 'sport', 'politics', 'business', 'sport', 'tech', 'business', 'sport', 'tech', 'sport', 'sport', 'entertainment', 'sport', 'business', 'sport', 'business', 'tech', 'politics', 'tech', 'business', 'sport', 'sport', 'business', 'business', 'business', 'business', 'politics', 'sport', 'business', 'tech', 'business', 'sport', 'politics', 'business', 'tech', 'business', 'sport', 'business', 'politics', 'entertainment', 'sport', 'business', 'politics', 'business', 'entertainment', 'business', 'business', 'business', 'sport', 'politics', 'entertainment', 'sport', 'politics', 'sport', 'politics', 'politics', 'business', 'business', 'sport', 'tech', 'entertainment', 'sport', 'entertainment', 'business', 'business', 'business', 'tech', 'sport', 'tech', 'politics', 'tech', 'tech', 'tech', 'sport', 'tech', 'tech', 'entertainment', 'entertainment', 'tech', 'sport', 'entertainment', 'tech', 'sport', 'sport', 'business', 'entertainment', 'tech', 'business', 'sport', 'business', 'politics', 'business', 'entertainment', 'tech', 'business', 'politics', 'business', 'tech', 'sport', 'business', 'entertainment', 'business', 'politics', 'sport', 'entertainment', 'politics', 'sport', 'business', 'sport', 'politics', 'politics', 'sport', 'entertainment', 'entertainment', 'business', 'business', 'sport', 'tech', 'tech', 'sport', 'entertainment', 'tech', 'tech', 'business', 'sport', 'entertainment', 'tech', 'sport', 'sport', 'business', 'entertainment', 'business', 'business', 'business', 'entertainment', 'sport', 'entertainment', 'tech', 'tech', 'tech', 'politics', 'tech', 'tech', 'entertainment', 'entertainment', 'sport', 'sport', 'politics', 'business', 'entertainment', 'sport', 'politics', 'entertainment', 'tech', 'politics', 'tech', 'tech', 'business', 'entertainment', 'politics', 'tech', 'politics', 'politics', 'sport', 'politics', 'politics', 'entertainment', 'tech', 'sport', 'politics', 'sport', 'entertainment', 'politics', 'business', 'business', 'politics', 'sport', 'sport', 'sport', 'entertainment', 'tech', 'tech', 'business', 'entertainment', 'sport', 'politics', 'tech', 'politics', 'entertainment', 'tech', 'tech', 'business', 'business', 'sport', 'business', 'business', 'tech', 'politics', 'entertainment', 'business', 'business', 'business', 'business', 'business', 'tech', 'sport', 'politics', 'tech', 'tech', 'business', 'business', 'entertainment', 'politics', 'entertainment', 'sport', 'tech', 'sport', 'entertainment', 'sport', 'tech', 'sport', 'business', 'sport', 'politics', 'politics', 'entertainment', 'business', 'sport', 'politics', 'politics', 'sport', 'entertainment', 'politics', 'business', 'tech', 'sport', 'business', 'business', 'business', 'entertainment', 'entertainment', 'tech', 'tech', 'business', 'business', 'entertainment', 'sport', 'business', 'entertainment', 'tech', 'tech', 'business', 'business', 'sport', 'sport', 'sport', 'politics', 'politics', 'sport', 'politics', 'sport', 'business', 'entertainment', 'sport', 'tech', 'entertainment', 'sport', 'sport', 'business', 'business', 'tech', 'tech', 'sport', 'entertainment', 'sport', 'entertainment', 'sport', 'entertainment', 'politics', 'entertainment', 'entertainment', 'tech', 'entertainment', 'business', 'business', 'politics', 'sport', 'politics', 'tech', 'business', 'politics', 'sport', 'politics', 'sport', 'entertainment', 'sport', 'politics', 'sport', 'sport', 'tech', 'entertainment', 'sport', 'politics', 'sport', 'sport', 'business', 'tech', 'entertainment', 'politics', 'tech', 'entertainment', 'politics', 'entertainment', 'politics', 'entertainment', 'entertainment', 'tech', 'entertainment', 'politics', 'entertainment', 'entertainment', 'tech', 'tech', 'sport', 'sport', 'entertainment', 'entertainment', 'tech', 'entertainment', 'politics', 'tech', 'entertainment', 'business', 'tech', 'sport', 'business', 'entertainment', 'entertainment', 'tech', 'entertainment', 'tech', 'business', 'entertainment', 'sport', 'entertainment', 'business', 'sport', 'business', 'sport', 'politics', 'tech', 'entertainment', 'politics', 'business', 'entertainment', 'entertainment', 'politics', 'business', 'entertainment', 'sport', 'politics', 'sport', 'business', 'business', 'business', 'business', 'business', 'entertainment', 'tech', 'sport', 'entertainment', 'entertainment', 'business', 'sport', 'tech', 'tech', 'entertainment', 'sport', 'business', 'politics', 'business', 'politics', 'business', 'business', 'entertainment', 'politics', 'business', 'business', 'tech', 'politics', 'sport', 'tech', 'entertainment', 'politics', 'business', 'business', 'sport', 'entertainment', 'politics', 'tech', 'business', 'business', 'politics', 'business', 'sport', 'entertainment', 'sport', 'entertainment', 'tech', 'politics', 'business', 'business', 'tech', 'business', 'business', 'sport', 'business', 'tech', 'entertainment', 'politics', 'business', 'politics', 'business', 'sport', 'tech', 'business', 'politics', 'entertainment', 'tech', 'business', 'entertainment', 'sport', 'politics', 'politics', 'sport', 'politics', 'business', 'tech', 'entertainment', 'sport', 'sport', 'tech', 'business', 'sport', 'entertainment', 'tech', 'sport', 'politics', 'sport', 'business', 'business', 'business', 'politics', 'entertainment', 'sport', 'politics', 'tech', 'business', 'business', 'tech', 'entertainment', 'entertainment', 'tech', 'tech', 'sport', 'sport', 'entertainment', 'tech', 'entertainment', 'sport', 'politics', 'tech', 'business', 'sport', 'entertainment', 'business', 'business', 'entertainment', 'sport', 'business', 'sport', 'tech', 'politics', 'politics', 'tech', 'entertainment', 'politics', 'entertainment', 'business', 'business', 'politics', 'sport', 'tech', 'sport', 'sport', 'sport', 'politics', 'business', 'sport', 'business', 'tech', 'sport', 'business', 'business', 'sport', 'politics', 'tech', 'sport', 'business', 'tech', 'sport', 'sport', 'business', 'business', 'business', 'business', 'politics', 'entertainment', 'tech', 'business', 'business', 'sport', 'business', 'entertainment', 'business', 'entertainment', 'sport', 'politics', 'business', 'business', 'tech', 'entertainment', 'business', 'business', 'business', 'politics', 'business', 'politics', 'tech', 'entertainment', 'politics', 'entertainment', 'sport', 'tech', 'politics', 'business', 'tech', 'sport', 'business', 'business', 'entertainment', 'tech', 'business', 'business', 'sport', 'sport', 'entertainment', 'sport', 'politics', 'sport', 'business', 'sport', 'business', 'politics', 'politics', 'business', 'politics', 'tech', 'entertainment', 'sport', 'business', 'entertainment', 'sport', 'politics', 'politics', 'tech', 'entertainment', 'business', 'politics', 'politics', 'sport', 'tech', 'business', 'sport', 'entertainment', 'sport', 'entertainment', 'sport', 'business', 'sport', 'politics', 'entertainment', 'tech', 'business', 'sport', 'politics', 'tech', 'sport', 'entertainment', 'business', 'sport', 'entertainment', 'sport', 'tech', 'sport', 'tech', 'politics', 'sport', 'business', 'entertainment', 'tech', 'tech', 'politics', 'tech', 'entertainment', 'tech', 'sport', 'business', 'tech', 'business', 'entertainment', 'sport', 'tech', 'politics', 'politics', 'politics', 'politics', 'entertainment', 'entertainment', 'entertainment', 'business', 'politics', 'politics', 'sport', 'sport', 'tech', 'sport', 'politics', 'business', 'business', 'tech', 'sport', 'tech', 'business', 'tech', 'politics', 'politics', 'sport', 'business', 'politics', 'sport', 'business', 'tech', 'business', 'business', 'entertainment', 'entertainment', 'sport', 'business', 'tech', 'tech', 'politics', 'business', 'politics', 'sport', 'entertainment', 'entertainment', 'politics', 'politics', 'business', 'business', 'tech', 'tech', 'sport', 'sport', 'politics', 'tech', 'sport', 'tech', 'business', 'sport', 'business', 'politics', 'sport', 'entertainment', 'business', 'tech', 'politics', 'entertainment', 'tech', 'business', 'sport', 'entertainment', 'tech', 'tech', 'entertainment', 'politics', 'tech', 'entertainment', 'sport', 'entertainment', 'sport', 'sport', 'sport', 'politics', 'tech', 'sport', 'business', 'sport', 'sport', 'business', 'tech', 'sport', 'business', 'entertainment', 'politics', 'tech', 'sport', 'politics', 'tech', 'entertainment', 'politics', 'sport', 'politics', 'tech', 'business', 'entertainment', 'sport', 'politics', 'business', 'tech', 'tech', 'tech', 'politics', 'business', 'sport', 'politics', 'entertainment', 'tech', 'entertainment', 'sport', 'tech', 'business', 'politics', 'entertainment', 'tech', 'politics', 'sport', 'sport', 'business', 'entertainment', 'business', 'business', 'politics', 'business', 'business', 'politics', 'tech', 'entertainment', 'politics', 'entertainment', 'entertainment', 'business', 'politics', 'sport', 'politics', 'entertainment', 'sport', 'entertainment', 'politics', 'entertainment', 'entertainment', 'entertainment', 'business', 'sport', 'politics', 'sport', 'entertainment', 'tech', 'tech', 'business', 'politics', 'entertainment', 'business', 'sport', 'business', 'politics', 'politics', 'business', 'sport', 'tech', 'tech', 'tech', 'business', 'politics', 'politics', 'business', 'sport', 'sport', 'entertainment', 'business', 'sport', 'sport', 'politics', 'politics', 'politics', 'entertainment', 'politics', 'business', 'tech', 'business', 'politics', 'entertainment', 'entertainment', 'business', 'sport', 'politics', 'entertainment', 'sport', 'entertainment', 'politics', 'politics', 'business', 'politics', 'sport', 'entertainment', 'entertainment', 'tech', 'tech', 'tech', 'tech', 'politics', 'tech', 'business', 'tech', 'sport', 'sport', 'entertainment', 'business', 'tech', 'entertainment', 'business', 'tech', 'sport', 'tech', 'entertainment', 'entertainment', 'politics', 'politics', 'sport', 'business', 'business', 'tech', 'entertainment', 'sport', 'politics', 'business', 'tech', 'entertainment', 'politics', 'sport', 'entertainment', 'politics', 'politics', 'tech', 'sport', 'politics', 'business', 'politics', 'entertainment', 'tech', 'sport', 'politics', 'entertainment', 'entertainment', 'business', 'sport', 'tech', 'tech', 'sport', 'entertainment', 'tech', 'politics', 'tech', 'sport', 'politics', 'politics', 'sport', 'entertainment', 'sport', 'politics', 'sport', 'tech', 'entertainment', 'sport', 'entertainment', 'business', 'business', 'entertainment', 'entertainment', 'entertainment', 'tech', 'sport', 'business', 'business', 'politics', 'politics', 'business', 'politics', 'entertainment', 'sport', 'sport', 'tech', 'politics', 'sport', 'business', 'sport', 'business', 'tech', 'sport', 'sport', 'business', 'entertainment', 'sport', 'sport', 'tech', 'sport', 'business', 'politics', 'business', 'entertainment', 'tech', 'entertainment', 'politics', 'business', 'entertainment', 'politics', 'entertainment', 'politics', 'politics', 'business', 'sport', 'sport', 'sport', 'tech', 'tech', 'sport', 'politics', 'entertainment', 'tech', 'sport', 'entertainment', 'business', 'entertainment', 'politics', 'business', 'sport', 'tech', 'business', 'sport', 'politics', 'business', 'entertainment', 'entertainment', 'entertainment', 'politics', 'entertainment', 'politics', 'entertainment', 'sport', 'entertainment', 'sport', 'politics', 'politics', 'business', 'politics', 'tech', 'sport', 'tech', 'sport', 'business', 'politics', 'tech', 'entertainment', 'entertainment', 'politics', 'entertainment', 'politics', 'sport', 'sport', 'politics', 'business', 'tech', 'sport', 'politics', 'politics', 'entertainment', 'sport', 'politics', 'politics', 'business', 'tech', 'tech', 'business', 'tech', 'sport', 'sport', 'business', 'politics', 'business', 'tech', 'sport', 'tech', 'politics', 'entertainment', 'sport', 'business', 'sport', 'entertainment', 'tech', 'tech', 'sport', 'politics', 'sport', 'business', 'sport', 'business', 'sport', 'sport', 'entertainment', 'entertainment', 'business', 'tech', 'tech', 'business', 'tech', 'business', 'business', 'sport', 'sport', 'politics', 'sport', 'tech', 'sport', 'tech', 'sport', 'sport', 'business', 'business', 'tech', 'sport', 'business', 'tech', 'tech', 'politics', 'sport', 'business', 'entertainment', 'entertainment', 'tech', 'politics', 'sport', 'sport', 'tech', 'business', 'tech', 'entertainment', 'entertainment', 'politics', 'politics', 'business', 'entertainment', 'sport', 'entertainment', 'entertainment', 'business', 'sport', 'politics', 'tech', 'business', 'sport', 'entertainment', 'tech', 'politics', 'politics', 'sport', 'sport', 'business', 'business', 'business', 'business', 'business', 'entertainment', 'business', 'politics', 'politics', 'tech', 'tech', 'entertainment', 'politics', 'entertainment', 'business', 'politics', 'sport', 'sport', 'business', 'tech', 'business', 'tech', 'sport', 'business', 'business', 'politics', 'sport', 'sport', 'politics', 'politics', 'entertainment', 'entertainment', 'politics', 'business', 'politics', 'politics', 'business', 'tech', 'politics', 'politics', 'politics', 'politics', 'politics', 'entertainment', 'entertainment', 'tech', 'politics', 'sport', 'politics', 'sport', 'tech', 'sport', 'sport', 'sport', 'entertainment', 'tech', 'entertainment', 'tech', 'sport', 'tech', 'sport', 'sport', 'entertainment', 'entertainment', 'business', 'entertainment', 'entertainment', 'politics', 'business', 'sport', 'tech', 'tech', 'politics', 'business', 'sport', 'business', 'entertainment', 'sport', 'politics', 'entertainment', 'sport', 'sport', 'business', 'politics', 'tech', 'tech', 'business', 'business', 'sport', 'politics', 'entertainment', 'sport', 'sport', 'politics', 'entertainment', 'tech', 'sport', 'entertainment', 'business', 'politics', 'sport', 'politics', 'tech', 'entertainment', 'sport', 'politics', 'business', 'entertainment', 'politics', 'entertainment', 'politics', 'sport', 'politics', 'business', 'business', 'politics', 'business', 'tech', 'sport', 'business', 'entertainment', 'business', 'sport', 'sport', 'entertainment', 'tech', 'politics', 'tech', 'politics', 'politics', 'sport', 'sport', 'sport', 'business', 'tech', 'entertainment', 'business', 'sport', 'business', 'sport', 'business', 'tech', 'business', 'business', 'business', 'business', 'sport', 'sport', 'sport', 'business', 'business', 'entertainment', 'business', 'business', 'business', 'sport', 'sport', 'sport', 'tech', 'business', 'sport', 'sport', 'sport', 'business', 'entertainment', 'tech', 'tech', 'tech', 'politics', 'business', 'business', 'tech', 'business', 'tech', 'sport', 'sport', 'politics', 'politics', 'politics', 'sport', 'sport', 'politics', 'politics', 'tech', 'business', 'sport', 'sport', 'sport', 'sport', 'business', 'sport', 'business', 'business', 'business', 'business', 'sport', 'politics', 'sport', 'tech', 'tech', 'sport', 'tech', 'business', 'entertainment', 'business', 'sport', 'business', 'tech', 'tech', 'politics', 'entertainment', 'business', 'entertainment', 'business', 'tech', 'politics', 'entertainment', 'politics', 'entertainment', 'entertainment', 'tech', 'business', 'tech', 'tech', 'business', 'politics', 'sport', 'entertainment', 'business', 'politics', 'entertainment', 'business', 'tech', 'sport', 'tech', 'politics', 'sport', 'politics', 'business', 'politics', 'politics', 'business', 'business', 'business', 'tech', 'politics', 'business', 'politics', 'business', 'entertainment', 'politics', 'sport', 'politics', 'politics', 'sport', 'entertainment', 'tech', 'tech', 'business', 'tech', 'sport', 'business', 'business', 'politics', 'sport', 'tech', 'tech', 'tech', 'sport', 'entertainment', 'sport', 'politics', 'business', 'politics', 'politics', 'entertainment', 'tech', 'business', 'tech', 'sport', 'entertainment', 'entertainment', 'sport', 'business', 'entertainment', 'tech', 'tech', 'sport', 'entertainment', 'business', 'politics', 'politics', 'politics', 'tech', 'tech', 'business', 'politics', 'business', 'politics', 'politics', 'entertainment', 'sport', 'tech', 'business', 'tech', 'entertainment', 'tech', 'tech', 'sport', 'politics', 'sport', 'sport', 'politics', 'entertainment', 'entertainment', 'business', 'politics', 'politics', 'sport', 'business', 'business', 'tech', 'business', 'tech', 'tech', 'sport', 'business', 'politics', 'sport', 'business', 'business', 'sport', 'tech', 'sport', 'tech', 'entertainment', 'sport', 'sport', 'entertainment', 'business', 'tech', 'sport', 'sport', 'politics', 'tech', 'business', 'politics', 'sport', 'sport', 'politics', 'entertainment', 'tech', 'tech', 'tech', 'business', 'sport', 'entertainment', 'entertainment', 'tech', 'business', 'politics', 'tech', 'sport', 'sport', 'tech', 'tech', 'politics', 'business', 'sport', 'entertainment', 'entertainment', 'sport', 'entertainment', 'tech', 'tech', 'business', 'business', 'business', 'sport', 'sport', 'tech', 'sport', 'business', 'tech', 'business', 'business', 'sport', 'business', 'politics', 'business', 'business', 'tech', 'business', 'tech', 'politics', 'tech', 'entertainment', 'politics', 'tech', 'entertainment', 'sport', 'politics', 'entertainment', 'business', 'tech', 'business', 'tech', 'entertainment', 'tech', 'sport', 'business', 'business', 'politics', 'entertainment', 'politics', 'sport']\n",
            "[5]\n",
            "[4]\n",
            "[3]\n",
            "(445, 1)\n"
          ],
          "name": "stdout"
        }
      ]
    },
    {
      "cell_type": "code",
      "metadata": {
        "colab_type": "code",
        "id": "HZ5um4MWZP-W",
        "colab": {
          "base_uri": "https://localhost:8080/",
          "height": 295
        },
        "outputId": "3d670de9-77d7-4e26-8430-c572c18073cb"
      },
      "source": [
        "layers = tf.keras.layers\n",
        "\n",
        "model = tf.keras.Sequential([\n",
        "            layers.Embedding(vocab_size, embedding_dim, input_length=max_length),\n",
        "            layers.GlobalAveragePooling1D(),\n",
        "            layers.Dense(24, activation='relu'),\n",
        "            layers.Dense(6, activation='softmax')\n",
        "# YOUR CODE HERE\n",
        "])\n",
        "model.compile(loss='sparse_categorical_crossentropy',optimizer='adam',metrics=['accuracy'])\n",
        "model.summary()\n",
        "\n",
        "# Expected Output\n",
        "# Layer (type)                 Output Shape              Param #   \n",
        "# =================================================================\n",
        "# embedding (Embedding)        (None, 120, 16)           16000     \n",
        "# _________________________________________________________________\n",
        "# global_average_pooling1d (Gl (None, 16)                0         \n",
        "# _________________________________________________________________\n",
        "# dense (Dense)                (None, 24)                408       \n",
        "# _________________________________________________________________\n",
        "# dense_1 (Dense)              (None, 6)                 150       \n",
        "# =================================================================\n",
        "# Total params: 16,558\n",
        "# Trainable params: 16,558\n",
        "# Non-trainable params: 0"
      ],
      "execution_count": 22,
      "outputs": [
        {
          "output_type": "stream",
          "text": [
            "Model: \"sequential_2\"\n",
            "_________________________________________________________________\n",
            "Layer (type)                 Output Shape              Param #   \n",
            "=================================================================\n",
            "embedding_2 (Embedding)      (None, 120, 16)           16000     \n",
            "_________________________________________________________________\n",
            "global_average_pooling1d_2 ( (None, 16)                0         \n",
            "_________________________________________________________________\n",
            "dense_4 (Dense)              (None, 24)                408       \n",
            "_________________________________________________________________\n",
            "dense_5 (Dense)              (None, 6)                 150       \n",
            "=================================================================\n",
            "Total params: 16,558\n",
            "Trainable params: 16,558\n",
            "Non-trainable params: 0\n",
            "_________________________________________________________________\n"
          ],
          "name": "stdout"
        }
      ]
    },
    {
      "cell_type": "code",
      "metadata": {
        "colab_type": "code",
        "id": "XsfdxySKZSXu",
        "colab": {
          "base_uri": "https://localhost:8080/",
          "height": 1000
        },
        "outputId": "b2a8877a-ac10-4d1b-ca63-4f23b9d3b81a"
      },
      "source": [
        "num_epochs = 30\n",
        "history = model.fit(\n",
        "    train_padded,\n",
        "    training_label_seq,\n",
        "    epochs=num_epochs,\n",
        "    validation_data=(validation_padded, validation_label_seq),\n",
        "    verbose=2\n",
        ")"
      ],
      "execution_count": 23,
      "outputs": [
        {
          "output_type": "stream",
          "text": [
            "Epoch 1/30\n",
            "56/56 - 0s - loss: 1.7629 - accuracy: 0.2309 - val_loss: 1.7296 - val_accuracy: 0.2270\n",
            "Epoch 2/30\n",
            "56/56 - 0s - loss: 1.6784 - accuracy: 0.2376 - val_loss: 1.6347 - val_accuracy: 0.2494\n",
            "Epoch 3/30\n",
            "56/56 - 0s - loss: 1.5690 - accuracy: 0.3135 - val_loss: 1.5255 - val_accuracy: 0.3730\n",
            "Epoch 4/30\n",
            "56/56 - 0s - loss: 1.4393 - accuracy: 0.4775 - val_loss: 1.3998 - val_accuracy: 0.5124\n",
            "Epoch 5/30\n",
            "56/56 - 0s - loss: 1.2963 - accuracy: 0.5461 - val_loss: 1.2727 - val_accuracy: 0.5483\n",
            "Epoch 6/30\n",
            "56/56 - 0s - loss: 1.1626 - accuracy: 0.5787 - val_loss: 1.1642 - val_accuracy: 0.6202\n",
            "Epoch 7/30\n",
            "56/56 - 0s - loss: 1.0421 - accuracy: 0.6697 - val_loss: 1.0678 - val_accuracy: 0.6809\n",
            "Epoch 8/30\n",
            "56/56 - 0s - loss: 0.9328 - accuracy: 0.7837 - val_loss: 0.9771 - val_accuracy: 0.7348\n",
            "Epoch 9/30\n",
            "56/56 - 0s - loss: 0.8286 - accuracy: 0.8174 - val_loss: 0.8948 - val_accuracy: 0.7708\n",
            "Epoch 10/30\n",
            "56/56 - 0s - loss: 0.7294 - accuracy: 0.8416 - val_loss: 0.8168 - val_accuracy: 0.7933\n",
            "Epoch 11/30\n",
            "56/56 - 0s - loss: 0.6398 - accuracy: 0.8640 - val_loss: 0.7489 - val_accuracy: 0.7933\n",
            "Epoch 12/30\n",
            "56/56 - 0s - loss: 0.5619 - accuracy: 0.8803 - val_loss: 0.6827 - val_accuracy: 0.8135\n",
            "Epoch 13/30\n",
            "56/56 - 0s - loss: 0.4926 - accuracy: 0.8933 - val_loss: 0.6345 - val_accuracy: 0.8225\n",
            "Epoch 14/30\n",
            "56/56 - 0s - loss: 0.4370 - accuracy: 0.9079 - val_loss: 0.5937 - val_accuracy: 0.8270\n",
            "Epoch 15/30\n",
            "56/56 - 0s - loss: 0.3890 - accuracy: 0.9157 - val_loss: 0.5636 - val_accuracy: 0.8315\n",
            "Epoch 16/30\n",
            "56/56 - 0s - loss: 0.3501 - accuracy: 0.9253 - val_loss: 0.5271 - val_accuracy: 0.8360\n",
            "Epoch 17/30\n",
            "56/56 - 0s - loss: 0.3143 - accuracy: 0.9320 - val_loss: 0.5111 - val_accuracy: 0.8404\n",
            "Epoch 18/30\n",
            "56/56 - 0s - loss: 0.2832 - accuracy: 0.9388 - val_loss: 0.4825 - val_accuracy: 0.8382\n",
            "Epoch 19/30\n",
            "56/56 - 0s - loss: 0.2583 - accuracy: 0.9444 - val_loss: 0.4625 - val_accuracy: 0.8382\n",
            "Epoch 20/30\n",
            "56/56 - 0s - loss: 0.2364 - accuracy: 0.9500 - val_loss: 0.4537 - val_accuracy: 0.8404\n",
            "Epoch 21/30\n",
            "56/56 - 0s - loss: 0.2172 - accuracy: 0.9584 - val_loss: 0.4364 - val_accuracy: 0.8404\n",
            "Epoch 22/30\n",
            "56/56 - 0s - loss: 0.1967 - accuracy: 0.9629 - val_loss: 0.4221 - val_accuracy: 0.8472\n",
            "Epoch 23/30\n",
            "56/56 - 0s - loss: 0.1813 - accuracy: 0.9652 - val_loss: 0.4157 - val_accuracy: 0.8449\n",
            "Epoch 24/30\n",
            "56/56 - 0s - loss: 0.1660 - accuracy: 0.9697 - val_loss: 0.4127 - val_accuracy: 0.8472\n",
            "Epoch 25/30\n",
            "56/56 - 0s - loss: 0.1527 - accuracy: 0.9725 - val_loss: 0.4088 - val_accuracy: 0.8472\n",
            "Epoch 26/30\n",
            "56/56 - 0s - loss: 0.1413 - accuracy: 0.9747 - val_loss: 0.3953 - val_accuracy: 0.8517\n",
            "Epoch 27/30\n",
            "56/56 - 0s - loss: 0.1298 - accuracy: 0.9770 - val_loss: 0.3961 - val_accuracy: 0.8562\n",
            "Epoch 28/30\n",
            "56/56 - 0s - loss: 0.1207 - accuracy: 0.9831 - val_loss: 0.3965 - val_accuracy: 0.8539\n",
            "Epoch 29/30\n",
            "56/56 - 0s - loss: 0.1107 - accuracy: 0.9854 - val_loss: 0.3894 - val_accuracy: 0.8584\n",
            "Epoch 30/30\n",
            "56/56 - 0s - loss: 0.1026 - accuracy: 0.9848 - val_loss: 0.3841 - val_accuracy: 0.8674\n"
          ],
          "name": "stdout"
        }
      ]
    },
    {
      "cell_type": "code",
      "metadata": {
        "colab_type": "code",
        "id": "dQ0BX2apXS9u",
        "colab": {}
      },
      "source": [
        "import matplotlib.pyplot as plt\n",
        "\n",
        "\n",
        "def plot_graphs(history, string):\n",
        "  plt.plot(history.history[string])\n",
        "  plt.plot(history.history['val_'+string])\n",
        "  plt.xlabel(\"Epochs\")\n",
        "  plt.ylabel(string)\n",
        "  plt.legend([string, 'val_'+string])\n",
        "  plt.show()\n",
        "  \n",
        "plot_graphs(history, \"acc\")\n",
        "plot_graphs(history, \"loss\")"
      ],
      "execution_count": 0,
      "outputs": []
    },
    {
      "cell_type": "code",
      "metadata": {
        "colab_type": "code",
        "id": "w7Xc-uWxXhML",
        "colab": {}
      },
      "source": [
        "reverse_word_index = dict([(value, key) for (key, value) in word_index.items()])\n",
        "\n",
        "def decode_sentence(text):\n",
        "    return ' '.join([reverse_word_index.get(i, '?') for i in text])\n"
      ],
      "execution_count": 0,
      "outputs": []
    },
    {
      "cell_type": "code",
      "metadata": {
        "colab_type": "code",
        "id": "OhnFA_TDXrih",
        "colab": {}
      },
      "source": [
        "e = model.layers[0]\n",
        "weights = e.get_weights()[0]\n",
        "print(weights.shape) # shape: (vocab_size, embedding_dim)\n",
        "\n",
        "# Expected output\n",
        "# (1000, 16)"
      ],
      "execution_count": 0,
      "outputs": []
    },
    {
      "cell_type": "code",
      "metadata": {
        "colab_type": "code",
        "id": "_POzcWWAXudL",
        "colab": {}
      },
      "source": [
        "import io\n",
        "\n",
        "out_v = io.open('vecs.tsv', 'w', encoding='utf-8')\n",
        "out_m = io.open('meta.tsv', 'w', encoding='utf-8')\n",
        "for word_num in range(1, vocab_size):\n",
        "  word = reverse_word_index[word_num]\n",
        "  embeddings = weights[word_num]\n",
        "  out_m.write(word + \"\\n\")\n",
        "  out_v.write('\\t'.join([str(x) for x in embeddings]) + \"\\n\")\n",
        "out_v.close()\n",
        "out_m.close()"
      ],
      "execution_count": 0,
      "outputs": []
    },
    {
      "cell_type": "code",
      "metadata": {
        "colab_type": "code",
        "id": "VmqpQMZ_XyOa",
        "colab": {}
      },
      "source": [
        "try:\n",
        "  from google.colab import files\n",
        "except ImportError:\n",
        "  pass\n",
        "else:\n",
        "  files.download('vecs.tsv')\n",
        "  files.download('meta.tsv')"
      ],
      "execution_count": 0,
      "outputs": []
    }
  ]
}